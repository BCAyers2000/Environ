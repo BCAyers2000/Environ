{
 "cells": [
  {
   "cell_type": "code",
   "execution_count": null,
   "metadata": {},
   "outputs": [],
   "source": [
    "from pathlib import Path\n",
    "from pandas import read_csv"
   ]
  },
  {
   "cell_type": "code",
   "execution_count": null,
   "metadata": {},
   "outputs": [],
   "source": [
    "columns = ('hw', 'Oscillator strength')"
   ]
  },
  {
   "cell_type": "markdown",
   "metadata": {},
   "source": [
    "# Vacuum"
   ]
  },
  {
   "cell_type": "markdown",
   "metadata": {},
   "source": [
    "## chi"
   ]
  },
  {
   "cell_type": "code",
   "execution_count": null,
   "metadata": {},
   "outputs": [],
   "source": [
    "filename = 'CH4_vacuum.plot_S.dat'\n",
    "\n",
    "\n",
    "with open(Path('reference').joinpath(filename)) as f:\n",
    "    f.readline()\n",
    "    ref_data = read_csv(f, sep='\\s+', engine='python', names=columns, index_col=columns[0])\n",
    "\n",
    "with open(Path('results').joinpath(filename)) as f:\n",
    "    f.readline()\n",
    "    res_data = read_csv(f, sep='\\s+', engine='python', names=columns, index_col=columns[0])"
   ]
  },
  {
   "cell_type": "code",
   "execution_count": null,
   "metadata": {},
   "outputs": [],
   "source": [
    "(ref_data - res_data).abs().plot()"
   ]
  },
  {
   "cell_type": "code",
   "execution_count": null,
   "metadata": {},
   "outputs": [],
   "source": [
    "ref_data.plot()\n",
    "res_data.plot()"
   ]
  },
  {
   "cell_type": "markdown",
   "metadata": {},
   "source": [
    "# Solvent"
   ]
  },
  {
   "cell_type": "code",
   "execution_count": null,
   "metadata": {},
   "outputs": [],
   "source": [
    "filename = 'CH4_solvent.plot_S.dat'\n",
    "\n",
    "\n",
    "with open(Path('reference').joinpath(filename)) as f:\n",
    "    f.readline()\n",
    "    ref_data = read_csv(f, sep='\\s+', engine='python', names=columns, index_col=columns[0])\n",
    "\n",
    "with open(Path('results').joinpath(filename)) as f:\n",
    "    f.readline()\n",
    "    res_data = read_csv(f, sep='\\s+', engine='python', names=columns, index_col=columns[0])"
   ]
  },
  {
   "cell_type": "code",
   "execution_count": null,
   "metadata": {},
   "outputs": [],
   "source": [
    "(ref_data - res_data).abs().plot()"
   ]
  },
  {
   "cell_type": "code",
   "execution_count": null,
   "metadata": {},
   "outputs": [],
   "source": [
    "ref_data.plot()\n",
    "res_data.plot()"
   ]
  }
 ],
 "metadata": {
  "interpreter": {
   "hash": "31f2aee4e71d21fbe5cf8b01ff0e069b9275f58929596ceb00d14d90e3e16cd6"
  },
  "kernelspec": {
   "display_name": "Python 3.8.10 64-bit",
   "language": "python",
   "name": "python3"
  },
  "language_info": {
   "codemirror_mode": {
    "name": "ipython",
    "version": 3
   },
   "file_extension": ".py",
   "mimetype": "text/x-python",
   "name": "python",
   "nbconvert_exporter": "python",
   "pygments_lexer": "ipython3",
   "version": "3.8.10"
  },
  "orig_nbformat": 4
 },
 "nbformat": 4,
 "nbformat_minor": 2
}
